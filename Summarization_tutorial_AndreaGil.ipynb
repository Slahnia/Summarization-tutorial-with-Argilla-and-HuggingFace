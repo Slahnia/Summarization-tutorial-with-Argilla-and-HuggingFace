{
  "nbformat": 4,
  "nbformat_minor": 0,
  "metadata": {
    "colab": {
      "provenance": []
    },
    "kernelspec": {
      "name": "python3",
      "display_name": "Python 3"
    },
    "language_info": {
      "name": "python"
    },
    "accelerator": "GPU",
    "gpuClass": "standard",
    "widgets": {
      "application/vnd.jupyter.widget-state+json": {
        "f0ed79d68b7249399ce341e2d56ab5d4": {
          "model_module": "@jupyter-widgets/controls",
          "model_name": "HBoxModel",
          "model_module_version": "1.5.0",
          "state": {
            "_dom_classes": [],
            "_model_module": "@jupyter-widgets/controls",
            "_model_module_version": "1.5.0",
            "_model_name": "HBoxModel",
            "_view_count": null,
            "_view_module": "@jupyter-widgets/controls",
            "_view_module_version": "1.5.0",
            "_view_name": "HBoxView",
            "box_style": "",
            "children": [
              "IPY_MODEL_1d6fface52a948a6a876a81be3d96d00",
              "IPY_MODEL_082fca6e4a1b4d1ab19eb3e130c815d8",
              "IPY_MODEL_2d5c594b39ac42989561d8e1866c1d43"
            ],
            "layout": "IPY_MODEL_fc1326f10adb4438921e2f72110e205c"
          }
        },
        "1d6fface52a948a6a876a81be3d96d00": {
          "model_module": "@jupyter-widgets/controls",
          "model_name": "HTMLModel",
          "model_module_version": "1.5.0",
          "state": {
            "_dom_classes": [],
            "_model_module": "@jupyter-widgets/controls",
            "_model_module_version": "1.5.0",
            "_model_name": "HTMLModel",
            "_view_count": null,
            "_view_module": "@jupyter-widgets/controls",
            "_view_module_version": "1.5.0",
            "_view_name": "HTMLView",
            "description": "",
            "description_tooltip": null,
            "layout": "IPY_MODEL_0499b9812415448f98e3ee09a256f4d9",
            "placeholder": "​",
            "style": "IPY_MODEL_c715761fcb7c4405950c46214ff4780e",
            "value": "Map:   0%"
          }
        },
        "082fca6e4a1b4d1ab19eb3e130c815d8": {
          "model_module": "@jupyter-widgets/controls",
          "model_name": "FloatProgressModel",
          "model_module_version": "1.5.0",
          "state": {
            "_dom_classes": [],
            "_model_module": "@jupyter-widgets/controls",
            "_model_module_version": "1.5.0",
            "_model_name": "FloatProgressModel",
            "_view_count": null,
            "_view_module": "@jupyter-widgets/controls",
            "_view_module_version": "1.5.0",
            "_view_name": "ProgressView",
            "bar_style": "",
            "description": "",
            "description_tooltip": null,
            "layout": "IPY_MODEL_beb025981912405f87d14cc13f09fe4e",
            "max": 114,
            "min": 0,
            "orientation": "horizontal",
            "style": "IPY_MODEL_b370bf11a3d3471f812d2c57d8e02d0c",
            "value": 114
          }
        },
        "2d5c594b39ac42989561d8e1866c1d43": {
          "model_module": "@jupyter-widgets/controls",
          "model_name": "HTMLModel",
          "model_module_version": "1.5.0",
          "state": {
            "_dom_classes": [],
            "_model_module": "@jupyter-widgets/controls",
            "_model_module_version": "1.5.0",
            "_model_name": "HTMLModel",
            "_view_count": null,
            "_view_module": "@jupyter-widgets/controls",
            "_view_module_version": "1.5.0",
            "_view_name": "HTMLView",
            "description": "",
            "description_tooltip": null,
            "layout": "IPY_MODEL_3a76c8a6eb1e4d6fba9059df41e02387",
            "placeholder": "​",
            "style": "IPY_MODEL_30dfa8a4b8644fed983f53f038ba5f72",
            "value": " 0/114 [00:00&lt;?, ? examples/s]"
          }
        },
        "fc1326f10adb4438921e2f72110e205c": {
          "model_module": "@jupyter-widgets/base",
          "model_name": "LayoutModel",
          "model_module_version": "1.2.0",
          "state": {
            "_model_module": "@jupyter-widgets/base",
            "_model_module_version": "1.2.0",
            "_model_name": "LayoutModel",
            "_view_count": null,
            "_view_module": "@jupyter-widgets/base",
            "_view_module_version": "1.2.0",
            "_view_name": "LayoutView",
            "align_content": null,
            "align_items": null,
            "align_self": null,
            "border": null,
            "bottom": null,
            "display": null,
            "flex": null,
            "flex_flow": null,
            "grid_area": null,
            "grid_auto_columns": null,
            "grid_auto_flow": null,
            "grid_auto_rows": null,
            "grid_column": null,
            "grid_gap": null,
            "grid_row": null,
            "grid_template_areas": null,
            "grid_template_columns": null,
            "grid_template_rows": null,
            "height": null,
            "justify_content": null,
            "justify_items": null,
            "left": null,
            "margin": null,
            "max_height": null,
            "max_width": null,
            "min_height": null,
            "min_width": null,
            "object_fit": null,
            "object_position": null,
            "order": null,
            "overflow": null,
            "overflow_x": null,
            "overflow_y": null,
            "padding": null,
            "right": null,
            "top": null,
            "visibility": "hidden",
            "width": null
          }
        },
        "0499b9812415448f98e3ee09a256f4d9": {
          "model_module": "@jupyter-widgets/base",
          "model_name": "LayoutModel",
          "model_module_version": "1.2.0",
          "state": {
            "_model_module": "@jupyter-widgets/base",
            "_model_module_version": "1.2.0",
            "_model_name": "LayoutModel",
            "_view_count": null,
            "_view_module": "@jupyter-widgets/base",
            "_view_module_version": "1.2.0",
            "_view_name": "LayoutView",
            "align_content": null,
            "align_items": null,
            "align_self": null,
            "border": null,
            "bottom": null,
            "display": null,
            "flex": null,
            "flex_flow": null,
            "grid_area": null,
            "grid_auto_columns": null,
            "grid_auto_flow": null,
            "grid_auto_rows": null,
            "grid_column": null,
            "grid_gap": null,
            "grid_row": null,
            "grid_template_areas": null,
            "grid_template_columns": null,
            "grid_template_rows": null,
            "height": null,
            "justify_content": null,
            "justify_items": null,
            "left": null,
            "margin": null,
            "max_height": null,
            "max_width": null,
            "min_height": null,
            "min_width": null,
            "object_fit": null,
            "object_position": null,
            "order": null,
            "overflow": null,
            "overflow_x": null,
            "overflow_y": null,
            "padding": null,
            "right": null,
            "top": null,
            "visibility": null,
            "width": null
          }
        },
        "c715761fcb7c4405950c46214ff4780e": {
          "model_module": "@jupyter-widgets/controls",
          "model_name": "DescriptionStyleModel",
          "model_module_version": "1.5.0",
          "state": {
            "_model_module": "@jupyter-widgets/controls",
            "_model_module_version": "1.5.0",
            "_model_name": "DescriptionStyleModel",
            "_view_count": null,
            "_view_module": "@jupyter-widgets/base",
            "_view_module_version": "1.2.0",
            "_view_name": "StyleView",
            "description_width": ""
          }
        },
        "beb025981912405f87d14cc13f09fe4e": {
          "model_module": "@jupyter-widgets/base",
          "model_name": "LayoutModel",
          "model_module_version": "1.2.0",
          "state": {
            "_model_module": "@jupyter-widgets/base",
            "_model_module_version": "1.2.0",
            "_model_name": "LayoutModel",
            "_view_count": null,
            "_view_module": "@jupyter-widgets/base",
            "_view_module_version": "1.2.0",
            "_view_name": "LayoutView",
            "align_content": null,
            "align_items": null,
            "align_self": null,
            "border": null,
            "bottom": null,
            "display": null,
            "flex": null,
            "flex_flow": null,
            "grid_area": null,
            "grid_auto_columns": null,
            "grid_auto_flow": null,
            "grid_auto_rows": null,
            "grid_column": null,
            "grid_gap": null,
            "grid_row": null,
            "grid_template_areas": null,
            "grid_template_columns": null,
            "grid_template_rows": null,
            "height": null,
            "justify_content": null,
            "justify_items": null,
            "left": null,
            "margin": null,
            "max_height": null,
            "max_width": null,
            "min_height": null,
            "min_width": null,
            "object_fit": null,
            "object_position": null,
            "order": null,
            "overflow": null,
            "overflow_x": null,
            "overflow_y": null,
            "padding": null,
            "right": null,
            "top": null,
            "visibility": null,
            "width": null
          }
        },
        "b370bf11a3d3471f812d2c57d8e02d0c": {
          "model_module": "@jupyter-widgets/controls",
          "model_name": "ProgressStyleModel",
          "model_module_version": "1.5.0",
          "state": {
            "_model_module": "@jupyter-widgets/controls",
            "_model_module_version": "1.5.0",
            "_model_name": "ProgressStyleModel",
            "_view_count": null,
            "_view_module": "@jupyter-widgets/base",
            "_view_module_version": "1.2.0",
            "_view_name": "StyleView",
            "bar_color": null,
            "description_width": ""
          }
        },
        "3a76c8a6eb1e4d6fba9059df41e02387": {
          "model_module": "@jupyter-widgets/base",
          "model_name": "LayoutModel",
          "model_module_version": "1.2.0",
          "state": {
            "_model_module": "@jupyter-widgets/base",
            "_model_module_version": "1.2.0",
            "_model_name": "LayoutModel",
            "_view_count": null,
            "_view_module": "@jupyter-widgets/base",
            "_view_module_version": "1.2.0",
            "_view_name": "LayoutView",
            "align_content": null,
            "align_items": null,
            "align_self": null,
            "border": null,
            "bottom": null,
            "display": null,
            "flex": null,
            "flex_flow": null,
            "grid_area": null,
            "grid_auto_columns": null,
            "grid_auto_flow": null,
            "grid_auto_rows": null,
            "grid_column": null,
            "grid_gap": null,
            "grid_row": null,
            "grid_template_areas": null,
            "grid_template_columns": null,
            "grid_template_rows": null,
            "height": null,
            "justify_content": null,
            "justify_items": null,
            "left": null,
            "margin": null,
            "max_height": null,
            "max_width": null,
            "min_height": null,
            "min_width": null,
            "object_fit": null,
            "object_position": null,
            "order": null,
            "overflow": null,
            "overflow_x": null,
            "overflow_y": null,
            "padding": null,
            "right": null,
            "top": null,
            "visibility": null,
            "width": null
          }
        },
        "30dfa8a4b8644fed983f53f038ba5f72": {
          "model_module": "@jupyter-widgets/controls",
          "model_name": "DescriptionStyleModel",
          "model_module_version": "1.5.0",
          "state": {
            "_model_module": "@jupyter-widgets/controls",
            "_model_module_version": "1.5.0",
            "_model_name": "DescriptionStyleModel",
            "_view_count": null,
            "_view_module": "@jupyter-widgets/base",
            "_view_module_version": "1.2.0",
            "_view_name": "StyleView",
            "description_width": ""
          }
        },
        "35253bcbaa3d4ebc98d6e4dfcc4b37da": {
          "model_module": "@jupyter-widgets/controls",
          "model_name": "HBoxModel",
          "model_module_version": "1.5.0",
          "state": {
            "_dom_classes": [],
            "_model_module": "@jupyter-widgets/controls",
            "_model_module_version": "1.5.0",
            "_model_name": "HBoxModel",
            "_view_count": null,
            "_view_module": "@jupyter-widgets/controls",
            "_view_module_version": "1.5.0",
            "_view_name": "HBoxView",
            "box_style": "",
            "children": [
              "IPY_MODEL_8f1e51ed2bef435189ca64bf7c0cc14a",
              "IPY_MODEL_f3f272a4478a4baa90c556ae8745d87c",
              "IPY_MODEL_da868b7ebfb74ddbab505dc68eb80e26"
            ],
            "layout": "IPY_MODEL_8d9ded31b0bf4161ad0aa0d8aa7783c7"
          }
        },
        "8f1e51ed2bef435189ca64bf7c0cc14a": {
          "model_module": "@jupyter-widgets/controls",
          "model_name": "HTMLModel",
          "model_module_version": "1.5.0",
          "state": {
            "_dom_classes": [],
            "_model_module": "@jupyter-widgets/controls",
            "_model_module_version": "1.5.0",
            "_model_name": "HTMLModel",
            "_view_count": null,
            "_view_module": "@jupyter-widgets/controls",
            "_view_module_version": "1.5.0",
            "_view_name": "HTMLView",
            "description": "",
            "description_tooltip": null,
            "layout": "IPY_MODEL_79531072f743483c91caca8fcc096f3d",
            "placeholder": "​",
            "style": "IPY_MODEL_4d44fa48a3184917ba54b41ced938af7",
            "value": "Downloading pytorch_model.bin: 100%"
          }
        },
        "f3f272a4478a4baa90c556ae8745d87c": {
          "model_module": "@jupyter-widgets/controls",
          "model_name": "FloatProgressModel",
          "model_module_version": "1.5.0",
          "state": {
            "_dom_classes": [],
            "_model_module": "@jupyter-widgets/controls",
            "_model_module_version": "1.5.0",
            "_model_name": "FloatProgressModel",
            "_view_count": null,
            "_view_module": "@jupyter-widgets/controls",
            "_view_module_version": "1.5.0",
            "_view_name": "ProgressView",
            "bar_style": "success",
            "description": "",
            "description_tooltip": null,
            "layout": "IPY_MODEL_65c4165015cb4114b8aec544757da675",
            "max": 242065649,
            "min": 0,
            "orientation": "horizontal",
            "style": "IPY_MODEL_499d409580334eb1b48490067efefb5e",
            "value": 242065649
          }
        },
        "da868b7ebfb74ddbab505dc68eb80e26": {
          "model_module": "@jupyter-widgets/controls",
          "model_name": "HTMLModel",
          "model_module_version": "1.5.0",
          "state": {
            "_dom_classes": [],
            "_model_module": "@jupyter-widgets/controls",
            "_model_module_version": "1.5.0",
            "_model_name": "HTMLModel",
            "_view_count": null,
            "_view_module": "@jupyter-widgets/controls",
            "_view_module_version": "1.5.0",
            "_view_name": "HTMLView",
            "description": "",
            "description_tooltip": null,
            "layout": "IPY_MODEL_936e1e0a6bde4b69a0eec0cf42245dd3",
            "placeholder": "​",
            "style": "IPY_MODEL_cd87ca61a360403c862417f2a2da3d99",
            "value": " 242M/242M [00:01&lt;00:00, 237MB/s]"
          }
        },
        "8d9ded31b0bf4161ad0aa0d8aa7783c7": {
          "model_module": "@jupyter-widgets/base",
          "model_name": "LayoutModel",
          "model_module_version": "1.2.0",
          "state": {
            "_model_module": "@jupyter-widgets/base",
            "_model_module_version": "1.2.0",
            "_model_name": "LayoutModel",
            "_view_count": null,
            "_view_module": "@jupyter-widgets/base",
            "_view_module_version": "1.2.0",
            "_view_name": "LayoutView",
            "align_content": null,
            "align_items": null,
            "align_self": null,
            "border": null,
            "bottom": null,
            "display": null,
            "flex": null,
            "flex_flow": null,
            "grid_area": null,
            "grid_auto_columns": null,
            "grid_auto_flow": null,
            "grid_auto_rows": null,
            "grid_column": null,
            "grid_gap": null,
            "grid_row": null,
            "grid_template_areas": null,
            "grid_template_columns": null,
            "grid_template_rows": null,
            "height": null,
            "justify_content": null,
            "justify_items": null,
            "left": null,
            "margin": null,
            "max_height": null,
            "max_width": null,
            "min_height": null,
            "min_width": null,
            "object_fit": null,
            "object_position": null,
            "order": null,
            "overflow": null,
            "overflow_x": null,
            "overflow_y": null,
            "padding": null,
            "right": null,
            "top": null,
            "visibility": null,
            "width": null
          }
        },
        "79531072f743483c91caca8fcc096f3d": {
          "model_module": "@jupyter-widgets/base",
          "model_name": "LayoutModel",
          "model_module_version": "1.2.0",
          "state": {
            "_model_module": "@jupyter-widgets/base",
            "_model_module_version": "1.2.0",
            "_model_name": "LayoutModel",
            "_view_count": null,
            "_view_module": "@jupyter-widgets/base",
            "_view_module_version": "1.2.0",
            "_view_name": "LayoutView",
            "align_content": null,
            "align_items": null,
            "align_self": null,
            "border": null,
            "bottom": null,
            "display": null,
            "flex": null,
            "flex_flow": null,
            "grid_area": null,
            "grid_auto_columns": null,
            "grid_auto_flow": null,
            "grid_auto_rows": null,
            "grid_column": null,
            "grid_gap": null,
            "grid_row": null,
            "grid_template_areas": null,
            "grid_template_columns": null,
            "grid_template_rows": null,
            "height": null,
            "justify_content": null,
            "justify_items": null,
            "left": null,
            "margin": null,
            "max_height": null,
            "max_width": null,
            "min_height": null,
            "min_width": null,
            "object_fit": null,
            "object_position": null,
            "order": null,
            "overflow": null,
            "overflow_x": null,
            "overflow_y": null,
            "padding": null,
            "right": null,
            "top": null,
            "visibility": null,
            "width": null
          }
        },
        "4d44fa48a3184917ba54b41ced938af7": {
          "model_module": "@jupyter-widgets/controls",
          "model_name": "DescriptionStyleModel",
          "model_module_version": "1.5.0",
          "state": {
            "_model_module": "@jupyter-widgets/controls",
            "_model_module_version": "1.5.0",
            "_model_name": "DescriptionStyleModel",
            "_view_count": null,
            "_view_module": "@jupyter-widgets/base",
            "_view_module_version": "1.2.0",
            "_view_name": "StyleView",
            "description_width": ""
          }
        },
        "65c4165015cb4114b8aec544757da675": {
          "model_module": "@jupyter-widgets/base",
          "model_name": "LayoutModel",
          "model_module_version": "1.2.0",
          "state": {
            "_model_module": "@jupyter-widgets/base",
            "_model_module_version": "1.2.0",
            "_model_name": "LayoutModel",
            "_view_count": null,
            "_view_module": "@jupyter-widgets/base",
            "_view_module_version": "1.2.0",
            "_view_name": "LayoutView",
            "align_content": null,
            "align_items": null,
            "align_self": null,
            "border": null,
            "bottom": null,
            "display": null,
            "flex": null,
            "flex_flow": null,
            "grid_area": null,
            "grid_auto_columns": null,
            "grid_auto_flow": null,
            "grid_auto_rows": null,
            "grid_column": null,
            "grid_gap": null,
            "grid_row": null,
            "grid_template_areas": null,
            "grid_template_columns": null,
            "grid_template_rows": null,
            "height": null,
            "justify_content": null,
            "justify_items": null,
            "left": null,
            "margin": null,
            "max_height": null,
            "max_width": null,
            "min_height": null,
            "min_width": null,
            "object_fit": null,
            "object_position": null,
            "order": null,
            "overflow": null,
            "overflow_x": null,
            "overflow_y": null,
            "padding": null,
            "right": null,
            "top": null,
            "visibility": null,
            "width": null
          }
        },
        "499d409580334eb1b48490067efefb5e": {
          "model_module": "@jupyter-widgets/controls",
          "model_name": "ProgressStyleModel",
          "model_module_version": "1.5.0",
          "state": {
            "_model_module": "@jupyter-widgets/controls",
            "_model_module_version": "1.5.0",
            "_model_name": "ProgressStyleModel",
            "_view_count": null,
            "_view_module": "@jupyter-widgets/base",
            "_view_module_version": "1.2.0",
            "_view_name": "StyleView",
            "bar_color": null,
            "description_width": ""
          }
        },
        "936e1e0a6bde4b69a0eec0cf42245dd3": {
          "model_module": "@jupyter-widgets/base",
          "model_name": "LayoutModel",
          "model_module_version": "1.2.0",
          "state": {
            "_model_module": "@jupyter-widgets/base",
            "_model_module_version": "1.2.0",
            "_model_name": "LayoutModel",
            "_view_count": null,
            "_view_module": "@jupyter-widgets/base",
            "_view_module_version": "1.2.0",
            "_view_name": "LayoutView",
            "align_content": null,
            "align_items": null,
            "align_self": null,
            "border": null,
            "bottom": null,
            "display": null,
            "flex": null,
            "flex_flow": null,
            "grid_area": null,
            "grid_auto_columns": null,
            "grid_auto_flow": null,
            "grid_auto_rows": null,
            "grid_column": null,
            "grid_gap": null,
            "grid_row": null,
            "grid_template_areas": null,
            "grid_template_columns": null,
            "grid_template_rows": null,
            "height": null,
            "justify_content": null,
            "justify_items": null,
            "left": null,
            "margin": null,
            "max_height": null,
            "max_width": null,
            "min_height": null,
            "min_width": null,
            "object_fit": null,
            "object_position": null,
            "order": null,
            "overflow": null,
            "overflow_x": null,
            "overflow_y": null,
            "padding": null,
            "right": null,
            "top": null,
            "visibility": null,
            "width": null
          }
        },
        "cd87ca61a360403c862417f2a2da3d99": {
          "model_module": "@jupyter-widgets/controls",
          "model_name": "DescriptionStyleModel",
          "model_module_version": "1.5.0",
          "state": {
            "_model_module": "@jupyter-widgets/controls",
            "_model_module_version": "1.5.0",
            "_model_name": "DescriptionStyleModel",
            "_view_count": null,
            "_view_module": "@jupyter-widgets/base",
            "_view_module_version": "1.2.0",
            "_view_name": "StyleView",
            "description_width": ""
          }
        },
        "50a99c1954f44bb3af93f59ddb97dd74": {
          "model_module": "@jupyter-widgets/controls",
          "model_name": "HBoxModel",
          "model_module_version": "1.5.0",
          "state": {
            "_dom_classes": [],
            "_model_module": "@jupyter-widgets/controls",
            "_model_module_version": "1.5.0",
            "_model_name": "HBoxModel",
            "_view_count": null,
            "_view_module": "@jupyter-widgets/controls",
            "_view_module_version": "1.5.0",
            "_view_name": "HBoxView",
            "box_style": "",
            "children": [
              "IPY_MODEL_d07d14d017874405a06f4c542609bb5a",
              "IPY_MODEL_8bd92e2c5f7843159bab220580fbf2cb",
              "IPY_MODEL_66d9aa06596b4ceeaed56a37f2e1ae9e"
            ],
            "layout": "IPY_MODEL_dcc9154d9aca48d2bd3e4caa2c3a9e01"
          }
        },
        "d07d14d017874405a06f4c542609bb5a": {
          "model_module": "@jupyter-widgets/controls",
          "model_name": "HTMLModel",
          "model_module_version": "1.5.0",
          "state": {
            "_dom_classes": [],
            "_model_module": "@jupyter-widgets/controls",
            "_model_module_version": "1.5.0",
            "_model_name": "HTMLModel",
            "_view_count": null,
            "_view_module": "@jupyter-widgets/controls",
            "_view_module_version": "1.5.0",
            "_view_name": "HTMLView",
            "description": "",
            "description_tooltip": null,
            "layout": "IPY_MODEL_7d86a4dc94f64bbfa727a939fde212f7",
            "placeholder": "​",
            "style": "IPY_MODEL_f694451f75624fb98314a4ed4ba0241f",
            "value": "Downloading (…)neration_config.json: 100%"
          }
        },
        "8bd92e2c5f7843159bab220580fbf2cb": {
          "model_module": "@jupyter-widgets/controls",
          "model_name": "FloatProgressModel",
          "model_module_version": "1.5.0",
          "state": {
            "_dom_classes": [],
            "_model_module": "@jupyter-widgets/controls",
            "_model_module_version": "1.5.0",
            "_model_name": "FloatProgressModel",
            "_view_count": null,
            "_view_module": "@jupyter-widgets/controls",
            "_view_module_version": "1.5.0",
            "_view_name": "ProgressView",
            "bar_style": "success",
            "description": "",
            "description_tooltip": null,
            "layout": "IPY_MODEL_49c8960a206949d0bd49fcc43960cb50",
            "max": 147,
            "min": 0,
            "orientation": "horizontal",
            "style": "IPY_MODEL_578e9bac37cb45238513168c2be94fe6",
            "value": 147
          }
        },
        "66d9aa06596b4ceeaed56a37f2e1ae9e": {
          "model_module": "@jupyter-widgets/controls",
          "model_name": "HTMLModel",
          "model_module_version": "1.5.0",
          "state": {
            "_dom_classes": [],
            "_model_module": "@jupyter-widgets/controls",
            "_model_module_version": "1.5.0",
            "_model_name": "HTMLModel",
            "_view_count": null,
            "_view_module": "@jupyter-widgets/controls",
            "_view_module_version": "1.5.0",
            "_view_name": "HTMLView",
            "description": "",
            "description_tooltip": null,
            "layout": "IPY_MODEL_c25aebf7f4364363aaddfe70c416c7c9",
            "placeholder": "​",
            "style": "IPY_MODEL_922e7b76d4ec44cbafd5e5121599c9e1",
            "value": " 147/147 [00:00&lt;00:00, 6.34kB/s]"
          }
        },
        "dcc9154d9aca48d2bd3e4caa2c3a9e01": {
          "model_module": "@jupyter-widgets/base",
          "model_name": "LayoutModel",
          "model_module_version": "1.2.0",
          "state": {
            "_model_module": "@jupyter-widgets/base",
            "_model_module_version": "1.2.0",
            "_model_name": "LayoutModel",
            "_view_count": null,
            "_view_module": "@jupyter-widgets/base",
            "_view_module_version": "1.2.0",
            "_view_name": "LayoutView",
            "align_content": null,
            "align_items": null,
            "align_self": null,
            "border": null,
            "bottom": null,
            "display": null,
            "flex": null,
            "flex_flow": null,
            "grid_area": null,
            "grid_auto_columns": null,
            "grid_auto_flow": null,
            "grid_auto_rows": null,
            "grid_column": null,
            "grid_gap": null,
            "grid_row": null,
            "grid_template_areas": null,
            "grid_template_columns": null,
            "grid_template_rows": null,
            "height": null,
            "justify_content": null,
            "justify_items": null,
            "left": null,
            "margin": null,
            "max_height": null,
            "max_width": null,
            "min_height": null,
            "min_width": null,
            "object_fit": null,
            "object_position": null,
            "order": null,
            "overflow": null,
            "overflow_x": null,
            "overflow_y": null,
            "padding": null,
            "right": null,
            "top": null,
            "visibility": null,
            "width": null
          }
        },
        "7d86a4dc94f64bbfa727a939fde212f7": {
          "model_module": "@jupyter-widgets/base",
          "model_name": "LayoutModel",
          "model_module_version": "1.2.0",
          "state": {
            "_model_module": "@jupyter-widgets/base",
            "_model_module_version": "1.2.0",
            "_model_name": "LayoutModel",
            "_view_count": null,
            "_view_module": "@jupyter-widgets/base",
            "_view_module_version": "1.2.0",
            "_view_name": "LayoutView",
            "align_content": null,
            "align_items": null,
            "align_self": null,
            "border": null,
            "bottom": null,
            "display": null,
            "flex": null,
            "flex_flow": null,
            "grid_area": null,
            "grid_auto_columns": null,
            "grid_auto_flow": null,
            "grid_auto_rows": null,
            "grid_column": null,
            "grid_gap": null,
            "grid_row": null,
            "grid_template_areas": null,
            "grid_template_columns": null,
            "grid_template_rows": null,
            "height": null,
            "justify_content": null,
            "justify_items": null,
            "left": null,
            "margin": null,
            "max_height": null,
            "max_width": null,
            "min_height": null,
            "min_width": null,
            "object_fit": null,
            "object_position": null,
            "order": null,
            "overflow": null,
            "overflow_x": null,
            "overflow_y": null,
            "padding": null,
            "right": null,
            "top": null,
            "visibility": null,
            "width": null
          }
        },
        "f694451f75624fb98314a4ed4ba0241f": {
          "model_module": "@jupyter-widgets/controls",
          "model_name": "DescriptionStyleModel",
          "model_module_version": "1.5.0",
          "state": {
            "_model_module": "@jupyter-widgets/controls",
            "_model_module_version": "1.5.0",
            "_model_name": "DescriptionStyleModel",
            "_view_count": null,
            "_view_module": "@jupyter-widgets/base",
            "_view_module_version": "1.2.0",
            "_view_name": "StyleView",
            "description_width": ""
          }
        },
        "49c8960a206949d0bd49fcc43960cb50": {
          "model_module": "@jupyter-widgets/base",
          "model_name": "LayoutModel",
          "model_module_version": "1.2.0",
          "state": {
            "_model_module": "@jupyter-widgets/base",
            "_model_module_version": "1.2.0",
            "_model_name": "LayoutModel",
            "_view_count": null,
            "_view_module": "@jupyter-widgets/base",
            "_view_module_version": "1.2.0",
            "_view_name": "LayoutView",
            "align_content": null,
            "align_items": null,
            "align_self": null,
            "border": null,
            "bottom": null,
            "display": null,
            "flex": null,
            "flex_flow": null,
            "grid_area": null,
            "grid_auto_columns": null,
            "grid_auto_flow": null,
            "grid_auto_rows": null,
            "grid_column": null,
            "grid_gap": null,
            "grid_row": null,
            "grid_template_areas": null,
            "grid_template_columns": null,
            "grid_template_rows": null,
            "height": null,
            "justify_content": null,
            "justify_items": null,
            "left": null,
            "margin": null,
            "max_height": null,
            "max_width": null,
            "min_height": null,
            "min_width": null,
            "object_fit": null,
            "object_position": null,
            "order": null,
            "overflow": null,
            "overflow_x": null,
            "overflow_y": null,
            "padding": null,
            "right": null,
            "top": null,
            "visibility": null,
            "width": null
          }
        },
        "578e9bac37cb45238513168c2be94fe6": {
          "model_module": "@jupyter-widgets/controls",
          "model_name": "ProgressStyleModel",
          "model_module_version": "1.5.0",
          "state": {
            "_model_module": "@jupyter-widgets/controls",
            "_model_module_version": "1.5.0",
            "_model_name": "ProgressStyleModel",
            "_view_count": null,
            "_view_module": "@jupyter-widgets/base",
            "_view_module_version": "1.2.0",
            "_view_name": "StyleView",
            "bar_color": null,
            "description_width": ""
          }
        },
        "c25aebf7f4364363aaddfe70c416c7c9": {
          "model_module": "@jupyter-widgets/base",
          "model_name": "LayoutModel",
          "model_module_version": "1.2.0",
          "state": {
            "_model_module": "@jupyter-widgets/base",
            "_model_module_version": "1.2.0",
            "_model_name": "LayoutModel",
            "_view_count": null,
            "_view_module": "@jupyter-widgets/base",
            "_view_module_version": "1.2.0",
            "_view_name": "LayoutView",
            "align_content": null,
            "align_items": null,
            "align_self": null,
            "border": null,
            "bottom": null,
            "display": null,
            "flex": null,
            "flex_flow": null,
            "grid_area": null,
            "grid_auto_columns": null,
            "grid_auto_flow": null,
            "grid_auto_rows": null,
            "grid_column": null,
            "grid_gap": null,
            "grid_row": null,
            "grid_template_areas": null,
            "grid_template_columns": null,
            "grid_template_rows": null,
            "height": null,
            "justify_content": null,
            "justify_items": null,
            "left": null,
            "margin": null,
            "max_height": null,
            "max_width": null,
            "min_height": null,
            "min_width": null,
            "object_fit": null,
            "object_position": null,
            "order": null,
            "overflow": null,
            "overflow_x": null,
            "overflow_y": null,
            "padding": null,
            "right": null,
            "top": null,
            "visibility": null,
            "width": null
          }
        },
        "922e7b76d4ec44cbafd5e5121599c9e1": {
          "model_module": "@jupyter-widgets/controls",
          "model_name": "DescriptionStyleModel",
          "model_module_version": "1.5.0",
          "state": {
            "_model_module": "@jupyter-widgets/controls",
            "_model_module_version": "1.5.0",
            "_model_name": "DescriptionStyleModel",
            "_view_count": null,
            "_view_module": "@jupyter-widgets/base",
            "_view_module_version": "1.2.0",
            "_view_name": "StyleView",
            "description_width": ""
          }
        },
        "7b9e35d4ac054ef98b2885e3896d270b": {
          "model_module": "@jupyter-widgets/controls",
          "model_name": "VBoxModel",
          "model_module_version": "1.5.0",
          "state": {
            "_dom_classes": [],
            "_model_module": "@jupyter-widgets/controls",
            "_model_module_version": "1.5.0",
            "_model_name": "VBoxModel",
            "_view_count": null,
            "_view_module": "@jupyter-widgets/controls",
            "_view_module_version": "1.5.0",
            "_view_name": "VBoxView",
            "box_style": "",
            "children": [
              "IPY_MODEL_6ada022ba6674c2ab3ef1d38ecb480da",
              "IPY_MODEL_de3e8d4926a343bfb7251d6b7e073187",
              "IPY_MODEL_0a426021c8664a7eb675c809e7c2614b",
              "IPY_MODEL_e00d50746c2a45378e82c1282fa34e9f",
              "IPY_MODEL_b5333aa4482940a1beb73979bc5d0b61"
            ],
            "layout": "IPY_MODEL_cb47f7d35ada4accb0647a1d3a62483b"
          }
        },
        "6ada022ba6674c2ab3ef1d38ecb480da": {
          "model_module": "@jupyter-widgets/controls",
          "model_name": "HTMLModel",
          "model_module_version": "1.5.0",
          "state": {
            "_dom_classes": [],
            "_model_module": "@jupyter-widgets/controls",
            "_model_module_version": "1.5.0",
            "_model_name": "HTMLModel",
            "_view_count": null,
            "_view_module": "@jupyter-widgets/controls",
            "_view_module_version": "1.5.0",
            "_view_name": "HTMLView",
            "description": "",
            "description_tooltip": null,
            "layout": "IPY_MODEL_c41e59fec4e64613bbdf33e7fdd34b22",
            "placeholder": "​",
            "style": "IPY_MODEL_128f31ddc0d64a20b3b36e719cfa6bf5",
            "value": "<center> <img\nsrc=https://huggingface.co/front/assets/huggingface_logo-noborder.svg\nalt='Hugging Face'> <br> Copy a token from <a\nhref=\"https://huggingface.co/settings/tokens\" target=\"_blank\">your Hugging Face\ntokens page</a> and paste it below. <br> Immediately click login after copying\nyour token or it might be stored in plain text in this notebook file. </center>"
          }
        },
        "de3e8d4926a343bfb7251d6b7e073187": {
          "model_module": "@jupyter-widgets/controls",
          "model_name": "PasswordModel",
          "model_module_version": "1.5.0",
          "state": {
            "_dom_classes": [],
            "_model_module": "@jupyter-widgets/controls",
            "_model_module_version": "1.5.0",
            "_model_name": "PasswordModel",
            "_view_count": null,
            "_view_module": "@jupyter-widgets/controls",
            "_view_module_version": "1.5.0",
            "_view_name": "PasswordView",
            "continuous_update": true,
            "description": "Token:",
            "description_tooltip": null,
            "disabled": false,
            "layout": "IPY_MODEL_c58cd3f5253e47d2bfbeb337c6c28658",
            "placeholder": "​",
            "style": "IPY_MODEL_c4a816e7dbd5474ab0f041b51e35c6cb",
            "value": ""
          }
        },
        "0a426021c8664a7eb675c809e7c2614b": {
          "model_module": "@jupyter-widgets/controls",
          "model_name": "CheckboxModel",
          "model_module_version": "1.5.0",
          "state": {
            "_dom_classes": [],
            "_model_module": "@jupyter-widgets/controls",
            "_model_module_version": "1.5.0",
            "_model_name": "CheckboxModel",
            "_view_count": null,
            "_view_module": "@jupyter-widgets/controls",
            "_view_module_version": "1.5.0",
            "_view_name": "CheckboxView",
            "description": "Add token as git credential?",
            "description_tooltip": null,
            "disabled": false,
            "indent": true,
            "layout": "IPY_MODEL_402639aa95a74c24b198a22f396430c3",
            "style": "IPY_MODEL_b5274353426d4fe1a269b8239eeea984",
            "value": true
          }
        },
        "e00d50746c2a45378e82c1282fa34e9f": {
          "model_module": "@jupyter-widgets/controls",
          "model_name": "ButtonModel",
          "model_module_version": "1.5.0",
          "state": {
            "_dom_classes": [],
            "_model_module": "@jupyter-widgets/controls",
            "_model_module_version": "1.5.0",
            "_model_name": "ButtonModel",
            "_view_count": null,
            "_view_module": "@jupyter-widgets/controls",
            "_view_module_version": "1.5.0",
            "_view_name": "ButtonView",
            "button_style": "",
            "description": "Login",
            "disabled": false,
            "icon": "",
            "layout": "IPY_MODEL_e1b1b3eae5b24135be8de7b9720014f3",
            "style": "IPY_MODEL_4be70812c3394f55b38aa73500137f5b",
            "tooltip": ""
          }
        },
        "b5333aa4482940a1beb73979bc5d0b61": {
          "model_module": "@jupyter-widgets/controls",
          "model_name": "HTMLModel",
          "model_module_version": "1.5.0",
          "state": {
            "_dom_classes": [],
            "_model_module": "@jupyter-widgets/controls",
            "_model_module_version": "1.5.0",
            "_model_name": "HTMLModel",
            "_view_count": null,
            "_view_module": "@jupyter-widgets/controls",
            "_view_module_version": "1.5.0",
            "_view_name": "HTMLView",
            "description": "",
            "description_tooltip": null,
            "layout": "IPY_MODEL_416b49abab204399823eff54ecfe1366",
            "placeholder": "​",
            "style": "IPY_MODEL_d5e556b3b6f943a6aa9fb734a157ec89",
            "value": "\n<b>Pro Tip:</b> If you don't already have one, you can create a dedicated\n'notebooks' token with 'write' access, that you can then easily reuse for all\nnotebooks. </center>"
          }
        },
        "cb47f7d35ada4accb0647a1d3a62483b": {
          "model_module": "@jupyter-widgets/base",
          "model_name": "LayoutModel",
          "model_module_version": "1.2.0",
          "state": {
            "_model_module": "@jupyter-widgets/base",
            "_model_module_version": "1.2.0",
            "_model_name": "LayoutModel",
            "_view_count": null,
            "_view_module": "@jupyter-widgets/base",
            "_view_module_version": "1.2.0",
            "_view_name": "LayoutView",
            "align_content": null,
            "align_items": "center",
            "align_self": null,
            "border": null,
            "bottom": null,
            "display": "flex",
            "flex": null,
            "flex_flow": "column",
            "grid_area": null,
            "grid_auto_columns": null,
            "grid_auto_flow": null,
            "grid_auto_rows": null,
            "grid_column": null,
            "grid_gap": null,
            "grid_row": null,
            "grid_template_areas": null,
            "grid_template_columns": null,
            "grid_template_rows": null,
            "height": null,
            "justify_content": null,
            "justify_items": null,
            "left": null,
            "margin": null,
            "max_height": null,
            "max_width": null,
            "min_height": null,
            "min_width": null,
            "object_fit": null,
            "object_position": null,
            "order": null,
            "overflow": null,
            "overflow_x": null,
            "overflow_y": null,
            "padding": null,
            "right": null,
            "top": null,
            "visibility": null,
            "width": "50%"
          }
        },
        "c41e59fec4e64613bbdf33e7fdd34b22": {
          "model_module": "@jupyter-widgets/base",
          "model_name": "LayoutModel",
          "model_module_version": "1.2.0",
          "state": {
            "_model_module": "@jupyter-widgets/base",
            "_model_module_version": "1.2.0",
            "_model_name": "LayoutModel",
            "_view_count": null,
            "_view_module": "@jupyter-widgets/base",
            "_view_module_version": "1.2.0",
            "_view_name": "LayoutView",
            "align_content": null,
            "align_items": null,
            "align_self": null,
            "border": null,
            "bottom": null,
            "display": null,
            "flex": null,
            "flex_flow": null,
            "grid_area": null,
            "grid_auto_columns": null,
            "grid_auto_flow": null,
            "grid_auto_rows": null,
            "grid_column": null,
            "grid_gap": null,
            "grid_row": null,
            "grid_template_areas": null,
            "grid_template_columns": null,
            "grid_template_rows": null,
            "height": null,
            "justify_content": null,
            "justify_items": null,
            "left": null,
            "margin": null,
            "max_height": null,
            "max_width": null,
            "min_height": null,
            "min_width": null,
            "object_fit": null,
            "object_position": null,
            "order": null,
            "overflow": null,
            "overflow_x": null,
            "overflow_y": null,
            "padding": null,
            "right": null,
            "top": null,
            "visibility": null,
            "width": null
          }
        },
        "128f31ddc0d64a20b3b36e719cfa6bf5": {
          "model_module": "@jupyter-widgets/controls",
          "model_name": "DescriptionStyleModel",
          "model_module_version": "1.5.0",
          "state": {
            "_model_module": "@jupyter-widgets/controls",
            "_model_module_version": "1.5.0",
            "_model_name": "DescriptionStyleModel",
            "_view_count": null,
            "_view_module": "@jupyter-widgets/base",
            "_view_module_version": "1.2.0",
            "_view_name": "StyleView",
            "description_width": ""
          }
        },
        "c58cd3f5253e47d2bfbeb337c6c28658": {
          "model_module": "@jupyter-widgets/base",
          "model_name": "LayoutModel",
          "model_module_version": "1.2.0",
          "state": {
            "_model_module": "@jupyter-widgets/base",
            "_model_module_version": "1.2.0",
            "_model_name": "LayoutModel",
            "_view_count": null,
            "_view_module": "@jupyter-widgets/base",
            "_view_module_version": "1.2.0",
            "_view_name": "LayoutView",
            "align_content": null,
            "align_items": null,
            "align_self": null,
            "border": null,
            "bottom": null,
            "display": null,
            "flex": null,
            "flex_flow": null,
            "grid_area": null,
            "grid_auto_columns": null,
            "grid_auto_flow": null,
            "grid_auto_rows": null,
            "grid_column": null,
            "grid_gap": null,
            "grid_row": null,
            "grid_template_areas": null,
            "grid_template_columns": null,
            "grid_template_rows": null,
            "height": null,
            "justify_content": null,
            "justify_items": null,
            "left": null,
            "margin": null,
            "max_height": null,
            "max_width": null,
            "min_height": null,
            "min_width": null,
            "object_fit": null,
            "object_position": null,
            "order": null,
            "overflow": null,
            "overflow_x": null,
            "overflow_y": null,
            "padding": null,
            "right": null,
            "top": null,
            "visibility": null,
            "width": null
          }
        },
        "c4a816e7dbd5474ab0f041b51e35c6cb": {
          "model_module": "@jupyter-widgets/controls",
          "model_name": "DescriptionStyleModel",
          "model_module_version": "1.5.0",
          "state": {
            "_model_module": "@jupyter-widgets/controls",
            "_model_module_version": "1.5.0",
            "_model_name": "DescriptionStyleModel",
            "_view_count": null,
            "_view_module": "@jupyter-widgets/base",
            "_view_module_version": "1.2.0",
            "_view_name": "StyleView",
            "description_width": ""
          }
        },
        "402639aa95a74c24b198a22f396430c3": {
          "model_module": "@jupyter-widgets/base",
          "model_name": "LayoutModel",
          "model_module_version": "1.2.0",
          "state": {
            "_model_module": "@jupyter-widgets/base",
            "_model_module_version": "1.2.0",
            "_model_name": "LayoutModel",
            "_view_count": null,
            "_view_module": "@jupyter-widgets/base",
            "_view_module_version": "1.2.0",
            "_view_name": "LayoutView",
            "align_content": null,
            "align_items": null,
            "align_self": null,
            "border": null,
            "bottom": null,
            "display": null,
            "flex": null,
            "flex_flow": null,
            "grid_area": null,
            "grid_auto_columns": null,
            "grid_auto_flow": null,
            "grid_auto_rows": null,
            "grid_column": null,
            "grid_gap": null,
            "grid_row": null,
            "grid_template_areas": null,
            "grid_template_columns": null,
            "grid_template_rows": null,
            "height": null,
            "justify_content": null,
            "justify_items": null,
            "left": null,
            "margin": null,
            "max_height": null,
            "max_width": null,
            "min_height": null,
            "min_width": null,
            "object_fit": null,
            "object_position": null,
            "order": null,
            "overflow": null,
            "overflow_x": null,
            "overflow_y": null,
            "padding": null,
            "right": null,
            "top": null,
            "visibility": null,
            "width": null
          }
        },
        "b5274353426d4fe1a269b8239eeea984": {
          "model_module": "@jupyter-widgets/controls",
          "model_name": "DescriptionStyleModel",
          "model_module_version": "1.5.0",
          "state": {
            "_model_module": "@jupyter-widgets/controls",
            "_model_module_version": "1.5.0",
            "_model_name": "DescriptionStyleModel",
            "_view_count": null,
            "_view_module": "@jupyter-widgets/base",
            "_view_module_version": "1.2.0",
            "_view_name": "StyleView",
            "description_width": ""
          }
        },
        "e1b1b3eae5b24135be8de7b9720014f3": {
          "model_module": "@jupyter-widgets/base",
          "model_name": "LayoutModel",
          "model_module_version": "1.2.0",
          "state": {
            "_model_module": "@jupyter-widgets/base",
            "_model_module_version": "1.2.0",
            "_model_name": "LayoutModel",
            "_view_count": null,
            "_view_module": "@jupyter-widgets/base",
            "_view_module_version": "1.2.0",
            "_view_name": "LayoutView",
            "align_content": null,
            "align_items": null,
            "align_self": null,
            "border": null,
            "bottom": null,
            "display": null,
            "flex": null,
            "flex_flow": null,
            "grid_area": null,
            "grid_auto_columns": null,
            "grid_auto_flow": null,
            "grid_auto_rows": null,
            "grid_column": null,
            "grid_gap": null,
            "grid_row": null,
            "grid_template_areas": null,
            "grid_template_columns": null,
            "grid_template_rows": null,
            "height": null,
            "justify_content": null,
            "justify_items": null,
            "left": null,
            "margin": null,
            "max_height": null,
            "max_width": null,
            "min_height": null,
            "min_width": null,
            "object_fit": null,
            "object_position": null,
            "order": null,
            "overflow": null,
            "overflow_x": null,
            "overflow_y": null,
            "padding": null,
            "right": null,
            "top": null,
            "visibility": null,
            "width": null
          }
        },
        "4be70812c3394f55b38aa73500137f5b": {
          "model_module": "@jupyter-widgets/controls",
          "model_name": "ButtonStyleModel",
          "model_module_version": "1.5.0",
          "state": {
            "_model_module": "@jupyter-widgets/controls",
            "_model_module_version": "1.5.0",
            "_model_name": "ButtonStyleModel",
            "_view_count": null,
            "_view_module": "@jupyter-widgets/base",
            "_view_module_version": "1.2.0",
            "_view_name": "StyleView",
            "button_color": null,
            "font_weight": ""
          }
        },
        "416b49abab204399823eff54ecfe1366": {
          "model_module": "@jupyter-widgets/base",
          "model_name": "LayoutModel",
          "model_module_version": "1.2.0",
          "state": {
            "_model_module": "@jupyter-widgets/base",
            "_model_module_version": "1.2.0",
            "_model_name": "LayoutModel",
            "_view_count": null,
            "_view_module": "@jupyter-widgets/base",
            "_view_module_version": "1.2.0",
            "_view_name": "LayoutView",
            "align_content": null,
            "align_items": null,
            "align_self": null,
            "border": null,
            "bottom": null,
            "display": null,
            "flex": null,
            "flex_flow": null,
            "grid_area": null,
            "grid_auto_columns": null,
            "grid_auto_flow": null,
            "grid_auto_rows": null,
            "grid_column": null,
            "grid_gap": null,
            "grid_row": null,
            "grid_template_areas": null,
            "grid_template_columns": null,
            "grid_template_rows": null,
            "height": null,
            "justify_content": null,
            "justify_items": null,
            "left": null,
            "margin": null,
            "max_height": null,
            "max_width": null,
            "min_height": null,
            "min_width": null,
            "object_fit": null,
            "object_position": null,
            "order": null,
            "overflow": null,
            "overflow_x": null,
            "overflow_y": null,
            "padding": null,
            "right": null,
            "top": null,
            "visibility": null,
            "width": null
          }
        },
        "d5e556b3b6f943a6aa9fb734a157ec89": {
          "model_module": "@jupyter-widgets/controls",
          "model_name": "DescriptionStyleModel",
          "model_module_version": "1.5.0",
          "state": {
            "_model_module": "@jupyter-widgets/controls",
            "_model_module_version": "1.5.0",
            "_model_name": "DescriptionStyleModel",
            "_view_count": null,
            "_view_module": "@jupyter-widgets/base",
            "_view_module_version": "1.2.0",
            "_view_name": "StyleView",
            "description_width": ""
          }
        }
      }
    }
  },
  "cells": [
    {
      "cell_type": "markdown",
      "source": [
        "# Fine-tune a summarization model with labelled data and Hugging Face\n",
        "\n",
        "In this tutorial, we'll use [Argilla](https://github.com/argilla-io/argilla) and [HuggingFace](https://huggingface.co/) to fine-tune a text summarization model with our own custom labelled dataset. It will walk you through the following steps:\n",
        "\n",
        "-  📑 Load a dataset from the HuggingFace Hub and log it to Argilla to annotate. In this case, we'll use the [news summary](https://huggingface.co/datasets/argilla/news-summary-new) dataset.\n",
        "- 🏷️ Explore and label the training dataset with Argilla to validate or modify.\n",
        "- ⚙️ Load a summarization model from HuggingFace and fine-tune it with your labelled dataset. Here, we have chosen [T5-small](https://huggingface.co/t5-small), a lighter checkpoint of the powerful [T5 model](https://huggingface.co/t5-base) based on Transformer architecture.\n",
        "- 🤗 Upload your model to your HuggingFace account to share it with the whole community.\n",
        "- 🤖 Use your fine-tuned model for inference."
      ],
      "metadata": {
        "id": "gnlcdJhO1CbV"
      }
    },
    {
      "cell_type": "markdown",
      "source": [
        "## Introduction\n",
        "\n",
        "This tutorial is an easy introduction to the Argilla tool for data annotation and how to integrate it with HuggingFace smoothly in order to annotate data and fine-tune a text summarization model in just a few minutes. \n",
        "\n",
        "Summarization creates a shorter version of a document or an article that captures all the important information. Along with translation, it is another example of a task that can be formulated as a sequence-to-sequence task (more info [here](https://huggingface.co/docs/transformers/tasks/summarization#inference)).\n",
        "\n",
        "Data labelling is crucial when training or fine-tuning machine learning models. Dataset quality is often disregarded, and this can have a negative impact on the model's performance. For text summarization, we need a dataset that features a source text and a target summary.\n",
        "\n",
        "That is why Argilla comes to the rescue with its intuitive and user-friendly UI for data annotation and validation, so that we can make sure that we feed our model of choice with the best possible training data for the task at hand. Argilla helps to explore our summarization dataset, allowing us to validate or edit the summaries.\n",
        "\n",
        "Let's get started!"
      ],
      "metadata": {
        "id": "4AA2S5yovsEk"
      }
    },
    {
      "cell_type": "markdown",
      "source": [
        "## Running Argilla\n",
        "\n",
        "For this tutorial, you will need to have an Argilla server running. There are two main options for deploying and running Argilla:\n",
        "\n",
        "1. [Deploy Argilla on Hugging Face Spaces](https://huggingface.co/docs/hub/spaces-sdks-docker-argilla): This is the fastest option and the recommended choice for connecting to external notebooks (e.g., Google Colab) if you have an account on Hugging Face.\n",
        "\n",
        "2. [Launch Argilla using Argilla's quickstart Docker image](../../getting_started/quickstart.ipynb): This is the recommended option if you want Argilla running on your local machine. Note that this option will only let you run the tutorial locally and not with an external notebook service.\n",
        "\n",
        "For more information on deployment options, please check the Deployment section of the documentation.\n",
        "\n",
        "<div class=\"alert alert-info\">\n",
        "\n",
        "Tip\n",
        "    \n",
        "This tutorial is a Jupyter Notebook. There are two options to run it:\n",
        "\n",
        "- Use the Open in Colab button at the top of this page. This option allows you to run the notebook directly on Google Colab. Don't forget to change the runtime type to GPU for faster model training and inference.\n",
        "- Download the .ipynb file by clicking on the View source link at the top of the page. This option allows you to download the notebook and run it on your local machine or on a Jupyter notebook tool of your choice.\n",
        "</div>\n",
        "\n",
        "## Setup\n",
        "\n",
        "For this tutorial, you'll need to install the Argilla client and a few third party libraries using `pip`:"
      ],
      "metadata": {
        "id": "r_isdUKE1lMG"
      }
    },
    {
      "cell_type": "code",
      "source": [
        "%pip install argilla INSERT_PACKAGE==INSERT_VERSION -qqq"
      ],
      "metadata": {
        "id": "PAKjQ-L-1qoK"
      },
      "execution_count": null,
      "outputs": []
    },
    {
      "cell_type": "code",
      "execution_count": null,
      "metadata": {
        "id": "ku9VMxhvfW0H"
      },
      "outputs": [],
      "source": [
        "!pip install argilla"
      ]
    },
    {
      "cell_type": "markdown",
      "source": [
        "Let's import the Argilla module for reading and writing data:"
      ],
      "metadata": {
        "id": "84L62DLq1vAZ"
      }
    },
    {
      "cell_type": "code",
      "source": [
        "import argilla as rg"
      ],
      "metadata": {
        "id": "R_rGBZNg1sSo"
      },
      "execution_count": null,
      "outputs": []
    },
    {
      "cell_type": "markdown",
      "source": [
        "If you are running Argilla using the Docker quickstart image or Hugging Face Spaces, you need to init the Argilla client with the `URL` and `API_KEY`:"
      ],
      "metadata": {
        "id": "KwNTkjKv14N3"
      }
    },
    {
      "cell_type": "code",
      "source": [
        "# Replace api_url with the url to your HF Spaces URL if using Spaces\n",
        "# Replace api_key if you configured a custom API key\n",
        "rg.init(\n",
        "    api_url=\"http://localhost:6900\", \n",
        "    api_key=\"team.apikey\"\n",
        ")"
      ],
      "metadata": {
        "id": "4eIQ0y_y15IJ"
      },
      "execution_count": null,
      "outputs": []
    },
    {
      "cell_type": "markdown",
      "source": [
        "Finally, let's include the imports we need:"
      ],
      "metadata": {
        "id": "9tDNQRRM1-Qh"
      }
    },
    {
      "cell_type": "code",
      "source": [
        "!pip install transformers datasets"
      ],
      "metadata": {
        "id": "-xWIyUypfnE8"
      },
      "execution_count": null,
      "outputs": []
    },
    {
      "cell_type": "markdown",
      "source": [
        "## 1. Load a dataset from the HuggingFace Hub and log it to Argilla"
      ],
      "metadata": {
        "id": "IsPkn0I22O37"
      }
    },
    {
      "cell_type": "markdown",
      "source": [
        "First, we need a suitable dataset for news summarization. Since we want to fine-tune a model to summarize news articles, our ideal dataset will have no out-of-domain data that could degrade performance. Luckily for us, HuggingFace has an enormous repository full of potentially interesting datasets that can help us. We'll load the [news summary](https://huggingface.co/datasets/argilla/news-summary-new) dataset with the 'datasets' library, which has a column with the whole news articles aligned with another column that includes their summaries."
      ],
      "metadata": {
        "id": "8pSa2wle4X90"
      }
    },
    {
      "cell_type": "code",
      "source": [
        "from datasets import load_dataset"
      ],
      "metadata": {
        "id": "Q1vtEyMef3yZ"
      },
      "execution_count": null,
      "outputs": []
    },
    {
      "cell_type": "code",
      "source": [
        "dataset = load_dataset(\"argilla/news-summary-new\", split=\"train\")"
      ],
      "metadata": {
        "id": "6H1o0w9wf8Yj"
      },
      "execution_count": null,
      "outputs": []
    },
    {
      "cell_type": "markdown",
      "source": [
        "Just in case you want to take a look at the dataset. As we can see, the 'text' column displays the whole article, whereas the 'target' one is its summary.\n"
      ],
      "metadata": {
        "id": "kHnvJres6SXR"
      }
    },
    {
      "cell_type": "code",
      "source": [
        "dataset[0]"
      ],
      "metadata": {
        "colab": {
          "base_uri": "https://localhost:8080/"
        },
        "id": "z0DxwAEigb66",
        "outputId": "c56b10ad-68be-42a8-efb8-72f5d03e040f"
      },
      "execution_count": null,
      "outputs": [
        {
          "output_type": "execute_result",
          "data": {
            "text/plain": [
              "{'text': 'WASHINGTON (Reuters) - U.S. President Donald Trump will begin a major push next week to convince the public of the need for tax reform, shifting his focus to fiscal policy in an effort to win a big legislative victory by the end of the year, The Financial Times reported on Friday. Trump would begin the effort next Wednesday with a speech in Missouri, the first in a series of addresses to generate public support on the issue, Gary Cohn, director of the National Economic Council, told the newspaper.  “We are completely engaged in tax reform,” Cohn told the FT in an interview. “Starting next week the president’s agenda and calendar is going to revolve around tax reform. He will start being on the road making major addresses justifying the reasoning for tax reform.” Although Cohn stressed that tax reform would be front and center of Trump’s agenda, the Republican-controlled Congress faces two other pressing issues when it returns from its August recess on Sept. 5.  Lawmakers need to approve an increase in the U.S. debt ceiling to allow the federal government to keep borrowing money and paying its bills, including its debt obliterations. Separately they need to pass at least stop-gap spending measures to keep the government operating. Deadlines on both issues will loom within weeks after lawmakers return from their break. Asked by the FT whether the debate over the debt ceiling could derail the tax reform drive, Cohn said that “at the end of the day, Congress has to increase the debt ceiling - that is just the reality.” He added that this would be in September, before tax reform legislation. “The key point is this: tax reform is the White House’s number one focus right now,” he added. Cohn said White House officials had been working with Senate Majority Leader Mitch McConnell, House of Representatives Speaker Paul Ryan and other leading congressional Republicans on “an outline and skeleton” for the tax reform proposal, “and we have a good skeleton that we have agreed to.” The details Cohn discussed were similar to those mentioned by Ryan at a meeting with Boeing employees on Thursday. Asked whether the focus on tax reform had been complicated by Twitter attacks by the Republican president on McConnell and Ryan, Cohn said the White House officials worked well with the two “and we have made a massive amount of progress” on taxes. Cohn said the House Ways and Means Committee would put more “flesh and bone” on the tax reform plan when lawmakers return from the recess. He said he believed a bill could pass tax committees in both chambers and be passed by both the House and Senate by the end of 2017. In the case of individual taxpayers, Cohn said the president’s reform plan would protect the three big deductions that people can claim on taxes: for home mortgages, charitable giving and retirement savings. Beyond that, it would increase the caps for the standard deduction while eliminating most other personal deductions, Cohn said. The plan also aims to get rid of taxes on estates left when people die. Cohn said for businesses, the administration is proposing to lower corporate tax rates, while eliminating many of the deductions that businesses use to reduce the amount of tax they must pay. Asked whether the corporate tax rate could be cut to 15 percent as previously suggested by Trump, Cohn said, “I would like to get the tax rate as low as possible so that businesses want to create jobs here.” He said the administration would propose going to a system where American companies would not have to pay additional tax when they bring profits earned overseas back to the United States. “Today, they often have to pay extra taxes for bringing profits back to the U.S.,” Cohn said. “Our current system basically creates a penalty for headquartering in the U.S.” He said the administration did envision a one-time low tax rate on all overseas profits. ',\n",
              " 'target': 'Trump to begin tax reform push next week, White House adviser tells FT'}"
            ]
          },
          "metadata": {},
          "execution_count": 7
        }
      ]
    },
    {
      "cell_type": "markdown",
      "source": [
        "Then, connect to your Argilla space to upload the dataset for annotation. To do so, we will init the Argilla client with our Space `URL` and `API_KEY` (no need to do this again if you've already runned it above):"
      ],
      "metadata": {
        "id": "3Qzu9Iwx6m4T"
      }
    },
    {
      "cell_type": "code",
      "source": [
        "# Replace api_url with the url to your HF Spaces URL if using Spaces\n",
        "# Replace api_key if you configured a custom API key\n",
        "\n",
        "rg.init(\n",
        "    api_url=\"http://localhost:6900\", \n",
        "    api_key=\"team.apikey\"\n",
        ")"
      ],
      "metadata": {
        "id": "VWmKYX1wji_F"
      },
      "execution_count": null,
      "outputs": []
    },
    {
      "cell_type": "markdown",
      "source": [
        "TIP: You can find your Space URL behind the Embed this space button\n",
        "\n",
        "![Captura de pantalla 2023-04-02 191141.png](data:image/png;base64,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)"
      ],
      "metadata": {
        "id": "qmz9IhBX8n_9"
      }
    },
    {
      "cell_type": "markdown",
      "source": [
        "To extract the summaries into a new annotation column, we will write a quick helper function and map the whole dataset with it."
      ],
      "metadata": {
        "id": "ukNI3fxl-WW0"
      }
    },
    {
      "cell_type": "code",
      "source": [
        "def extract(row):\n",
        "    return {\"text\": row[\"text\"], \"annotation\": row[\"target\"]}\n",
        "\n",
        "dataset_for_training=dataset.map(extract)"
      ],
      "metadata": {
        "colab": {
          "base_uri": "https://localhost:8080/",
          "height": 17,
          "referenced_widgets": [
            "f0ed79d68b7249399ce341e2d56ab5d4",
            "1d6fface52a948a6a876a81be3d96d00",
            "082fca6e4a1b4d1ab19eb3e130c815d8",
            "2d5c594b39ac42989561d8e1866c1d43",
            "fc1326f10adb4438921e2f72110e205c",
            "0499b9812415448f98e3ee09a256f4d9",
            "c715761fcb7c4405950c46214ff4780e",
            "beb025981912405f87d14cc13f09fe4e",
            "b370bf11a3d3471f812d2c57d8e02d0c",
            "3a76c8a6eb1e4d6fba9059df41e02387",
            "30dfa8a4b8644fed983f53f038ba5f72"
          ]
        },
        "id": "AZ0H-JGVr6-p",
        "outputId": "c7c48bb3-d2ad-4092-8927-750f21b881c5"
      },
      "execution_count": null,
      "outputs": [
        {
          "output_type": "display_data",
          "data": {
            "text/plain": [
              "Map:   0%|          | 0/114 [00:00<?, ? examples/s]"
            ],
            "application/vnd.jupyter.widget-view+json": {
              "version_major": 2,
              "version_minor": 0,
              "model_id": "f0ed79d68b7249399ce341e2d56ab5d4"
            }
          },
          "metadata": {}
        }
      ]
    },
    {
      "cell_type": "markdown",
      "source": [
        "Have a quick look at the new dataset with the column for annotation:"
      ],
      "metadata": {
        "id": "z2DYTitE-rn7"
      }
    },
    {
      "cell_type": "code",
      "source": [
        "dataset_for_training[0]"
      ],
      "metadata": {
        "colab": {
          "base_uri": "https://localhost:8080/"
        },
        "id": "1NdGWXDJsIN_",
        "outputId": "09c6f0a9-0ea4-4979-926b-abd75a39cf45"
      },
      "execution_count": null,
      "outputs": [
        {
          "output_type": "execute_result",
          "data": {
            "text/plain": [
              "{'text': 'WASHINGTON (Reuters) - U.S. President Donald Trump will begin a major push next week to convince the public of the need for tax reform, shifting his focus to fiscal policy in an effort to win a big legislative victory by the end of the year, The Financial Times reported on Friday. Trump would begin the effort next Wednesday with a speech in Missouri, the first in a series of addresses to generate public support on the issue, Gary Cohn, director of the National Economic Council, told the newspaper.  “We are completely engaged in tax reform,” Cohn told the FT in an interview. “Starting next week the president’s agenda and calendar is going to revolve around tax reform. He will start being on the road making major addresses justifying the reasoning for tax reform.” Although Cohn stressed that tax reform would be front and center of Trump’s agenda, the Republican-controlled Congress faces two other pressing issues when it returns from its August recess on Sept. 5.  Lawmakers need to approve an increase in the U.S. debt ceiling to allow the federal government to keep borrowing money and paying its bills, including its debt obliterations. Separately they need to pass at least stop-gap spending measures to keep the government operating. Deadlines on both issues will loom within weeks after lawmakers return from their break. Asked by the FT whether the debate over the debt ceiling could derail the tax reform drive, Cohn said that “at the end of the day, Congress has to increase the debt ceiling - that is just the reality.” He added that this would be in September, before tax reform legislation. “The key point is this: tax reform is the White House’s number one focus right now,” he added. Cohn said White House officials had been working with Senate Majority Leader Mitch McConnell, House of Representatives Speaker Paul Ryan and other leading congressional Republicans on “an outline and skeleton” for the tax reform proposal, “and we have a good skeleton that we have agreed to.” The details Cohn discussed were similar to those mentioned by Ryan at a meeting with Boeing employees on Thursday. Asked whether the focus on tax reform had been complicated by Twitter attacks by the Republican president on McConnell and Ryan, Cohn said the White House officials worked well with the two “and we have made a massive amount of progress” on taxes. Cohn said the House Ways and Means Committee would put more “flesh and bone” on the tax reform plan when lawmakers return from the recess. He said he believed a bill could pass tax committees in both chambers and be passed by both the House and Senate by the end of 2017. In the case of individual taxpayers, Cohn said the president’s reform plan would protect the three big deductions that people can claim on taxes: for home mortgages, charitable giving and retirement savings. Beyond that, it would increase the caps for the standard deduction while eliminating most other personal deductions, Cohn said. The plan also aims to get rid of taxes on estates left when people die. Cohn said for businesses, the administration is proposing to lower corporate tax rates, while eliminating many of the deductions that businesses use to reduce the amount of tax they must pay. Asked whether the corporate tax rate could be cut to 15 percent as previously suggested by Trump, Cohn said, “I would like to get the tax rate as low as possible so that businesses want to create jobs here.” He said the administration would propose going to a system where American companies would not have to pay additional tax when they bring profits earned overseas back to the United States. “Today, they often have to pay extra taxes for bringing profits back to the U.S.,” Cohn said. “Our current system basically creates a penalty for headquartering in the U.S.” He said the administration did envision a one-time low tax rate on all overseas profits. ',\n",
              " 'target': 'Trump to begin tax reform push next week, White House adviser tells FT',\n",
              " 'annotation': 'Trump to begin tax reform push next week, White House adviser tells FT'}"
            ]
          },
          "metadata": {},
          "execution_count": 10
        }
      ]
    },
    {
      "cell_type": "markdown",
      "source": [
        "We can now read this dataset with Argilla, which will automatically create the records and put them in an Argilla Dataset."
      ],
      "metadata": {
        "id": "fv1Vbg4I_G5u"
      }
    },
    {
      "cell_type": "code",
      "source": [
        "dataset_rg = rg.read_datasets(dataset_for_training, task=\"Text2Text\")"
      ],
      "metadata": {
        "colab": {
          "base_uri": "https://localhost:8080/"
        },
        "id": "76vMEjE5sTI7",
        "outputId": "3cead9ab-daf2-40e5-cfde-88b95dcbcf13"
      },
      "execution_count": null,
      "outputs": [
        {
          "output_type": "stream",
          "name": "stderr",
          "text": [
            "WARNING:argilla.client.datasets:Following columns are not supported by the Text2TextRecord model and are ignored: ['target']\n"
          ]
        }
      ]
    },
    {
      "cell_type": "markdown",
      "source": [
        "We will upload this dataset to the web app and give it the name 'news-summary2'."
      ],
      "metadata": {
        "id": "6NRsQDJc_Q-O"
      }
    },
    {
      "cell_type": "code",
      "source": [
        "rg.log(dataset_rg, \"news-summary2\")"
      ],
      "metadata": {
        "id": "Nc6ObF5ssWJt"
      },
      "execution_count": null,
      "outputs": []
    },
    {
      "cell_type": "markdown",
      "source": [
        "## 2. Explore and label the data"
      ],
      "metadata": {
        "id": "KFYeQnk6BS-S"
      }
    },
    {
      "cell_type": "markdown",
      "source": [
        "![Captura de pantalla 2023-04-02 1923532.png](data:image/png;base64,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)"
      ],
      "metadata": {
        "id": "qA3-riyJ_94f"
      }
    },
    {
      "cell_type": "markdown",
      "source": [
        "Now we can proceed to validate or edit the news articles summaries in order to control and improve the quality of the training data.\n",
        "\n",
        "Once we've finished, we'll prepare the labelled dataset for model training using Argilla's method to automatically extract training examples in a suitable format from a dataset."
      ],
      "metadata": {
        "id": "WGiU25aoAoJo"
      }
    },
    {
      "cell_type": "code",
      "source": [
        "training_data = rg.load(\"news-summary2\").to_datasets()"
      ],
      "metadata": {
        "id": "2IMfLPVBte3W"
      },
      "execution_count": null,
      "outputs": []
    },
    {
      "cell_type": "code",
      "source": [
        "dataset = rg.load(\"news-summary2\")"
      ],
      "metadata": {
        "id": "hE5eLoxJtxp6"
      },
      "execution_count": null,
      "outputs": []
    },
    {
      "cell_type": "code",
      "source": [
        "dataset_for_training = dataset.prepare_for_training()"
      ],
      "metadata": {
        "id": "TEW_NhOZt0z_"
      },
      "execution_count": null,
      "outputs": []
    },
    {
      "cell_type": "code",
      "source": [
        "# Create train test split\n",
        "dataset_for_training = dataset_for_training.train_test_split(test_size=0.2)"
      ],
      "metadata": {
        "id": "mM76eM3HuGXH"
      },
      "execution_count": null,
      "outputs": []
    },
    {
      "cell_type": "markdown",
      "source": [
        "Check the status of the training examples to see if they're validated in annotation:"
      ],
      "metadata": {
        "id": "8__7BM6sCFpH"
      }
    },
    {
      "cell_type": "code",
      "source": [
        "training_data[1]"
      ],
      "metadata": {
        "colab": {
          "base_uri": "https://localhost:8080/"
        },
        "id": "myW1Bzjptld8",
        "outputId": "14c0b430-82cc-441a-8938-ad12ebe4ebd1"
      },
      "execution_count": null,
      "outputs": [
        {
          "output_type": "execute_result",
          "data": {
            "text/plain": [
              "{'text': 'WASHINGTON (Reuters) - Urged on by U.S. President-elect Donald Trump, Republican lawmakers rushing to scrap Obamacare said this week they hoped to make some changes intended to stabilize the insurance market while they work at repealing and replacing the law. The beginnings of a framework outlining what a post-Obamacare world could look like came in the same week that  Congress approved a resolution instructing key committees of both the House of Representatives and the Senate to draft Obamacare repeal legislation by a target date of Jan. 27. The fate of the Affordable Care Act, popularly known as Obamacare, is a high-stakes political showdown between Republicans and Democrats that potentially jeopardizes medical coverage for millions of Americans and risks causing chaos in the health insurance marketplace. The seven-year-old law has enabled up to 20 million previously uninsured Americans to obtain health coverage and helped slow the rise in healthcare spending. But Republicans have called it federal government overreach. “If our general goal is to move decisions out of Washington back to the states, we should be able to make those decisions in the next several months,” a key Republican senator working on the repeal, Lamar Alexander, told reporters outside the Senate this week. In a speech on the Senate floor, Alexander indicated Republicans are eyeing some moves insurers have said would help shore up the insurance plans offered on the Obamacare exchanges. The changes could be done by law or by regulation, Alexander said. Alexander said he favors continuing, at least temporarily, the cost-sharing subsidies that millions of Americans receive with their Obamacare exchange-based plans - a kind of financial assistance that helps keep down the cost of deductibles and co-pays. He advocates adjusting the special enrollment periods that insurers say are sometimes abused by people who wait until they are sick to sign up for insurance. Insurers have long sought changes that would fix this facet of Obamacare to weed out misuse. It would also help the transition to a new system, Alexander said, if individuals could use government premium subsidies to buy plans outside of the Obamacare marketplace. Alexander is chairman of the Senate health committee, one of the committees drafting the repeal legislation. He told reporters he had discussed his ideas with a number of senators and the process was evolving, but stressed it should be gradual, with some changes made by lawmakers and some by the secretary of Health and Human Services after he is confirmed.  Trump has nominated Republican Representative Tom Price for the job. “Certainty is something the insurance industry needs so they don’t abandon coverage,” said Senator Johnny Isakson of Georgia, another Republican lawmaker who has been working on how to stabilize  insurance markets. It was unclear whether lawmakers will reach the ambitious target date of Jan. 27 for drafting repeal legislation. But House Speaker Paul Ryan said on CNN on Thursday that Republicans are moving “as quickly as they can”. The 2010 law, Democratic President Barack Obama’s signature piece of domestic policy, touches almost all parts of the U.S. healthcare system, making its replacement likely to take effect over a number of years, even if lawmakers are trying to draft changes in weeks or months.  ',\n",
              " 'prediction': None,\n",
              " 'prediction_agent': None,\n",
              " 'annotation': 'U.S. Republicans start framework for Obamacare replacement',\n",
              " 'annotation_agent': 'c52d2a47e004',\n",
              " 'vectors': None,\n",
              " 'id': '00d11e42-f577-4714-b780-78e25c1550ad',\n",
              " 'metadata': None,\n",
              " 'status': 'Validated',\n",
              " 'event_timestamp': datetime.datetime(2023, 4, 2, 11, 36, 44, 532162),\n",
              " 'metrics': {'text_length': 3367}}"
            ]
          },
          "metadata": {},
          "execution_count": 14
        }
      ]
    },
    {
      "cell_type": "markdown",
      "source": [
        "## 3. Load a pretrained summarization model from HuggingFace and fine-tune it with your labelled dataset"
      ],
      "metadata": {
        "id": "fqsBXaBdDJhE"
      }
    },
    {
      "cell_type": "markdown",
      "source": [
        "The moment has come, let's fine-tune a summarization model with our fresh labelled dataset! \n",
        "\n",
        "In this tutorial, we're using t5-small, a lighter version checkpoint of Google's well-known t5-base model. The T5 family of pretrained models are especially designed for NLP text-to-text tasks such as summarization or machine translation, and they're built with [Transformers](https://huggingface.co/docs/transformers/index). Besides, we will use the Pytorch library, but you can also use Tensorflow.\n",
        "\n",
        "First, let's load the model from the HuggingFace Hub and its tokenizer to preprocess the text in our dataset."
      ],
      "metadata": {
        "id": "WdB1_I7QDkGt"
      }
    },
    {
      "cell_type": "code",
      "source": [
        "from transformers import AutoTokenizer\n",
        "\n",
        "checkpoint = \"t5-small\"\n",
        "tokenizer = AutoTokenizer.from_pretrained(checkpoint)"
      ],
      "metadata": {
        "id": "F0SB81s2uUKo"
      },
      "execution_count": null,
      "outputs": []
    },
    {
      "cell_type": "markdown",
      "source": [
        "Create a preprocessing function:"
      ],
      "metadata": {
        "id": "UzC8u8DSG1a9"
      }
    },
    {
      "cell_type": "code",
      "source": [
        "prefix = \"summarize: \"\n",
        "\n",
        "\n",
        "def preprocess_function(examples):\n",
        "    inputs = [prefix + doc for doc in examples[\"text\"]]\n",
        "    model_inputs = tokenizer(inputs, max_length=1024, truncation=True)\n",
        "\n",
        "\n",
        "    labels = tokenizer(text_target=examples[\"target\"], max_length=128, truncation=True)\n",
        "    \n",
        "\n",
        "    model_inputs[\"labels\"] = labels[\"input_ids\"]\n",
        "    return model_inputs"
      ],
      "metadata": {
        "id": "LB9vRZzTuXkF"
      },
      "execution_count": null,
      "outputs": []
    },
    {
      "cell_type": "markdown",
      "source": [
        "Apply the preprocessing function over the entire dataset:"
      ],
      "metadata": {
        "id": "YB2X9_7wHHi1"
      }
    },
    {
      "cell_type": "code",
      "source": [
        "tokenized_dataset = dataset_for_training.map(preprocess_function, batched=True)"
      ],
      "metadata": {
        "id": "y6IZ0727ufk1"
      },
      "execution_count": null,
      "outputs": []
    },
    {
      "cell_type": "markdown",
      "source": [
        "Now create a batch of examples using [DataCollatorForSeq2Seq](https://huggingface.co/docs/transformers/v4.27.2/en/main_classes/data_collator#transformers.DataCollatorForSeq2Seq):"
      ],
      "metadata": {
        "id": "jmeNS_d-Ha_I"
      }
    },
    {
      "cell_type": "code",
      "source": [
        "from transformers import DataCollatorForSeq2Seq\n",
        "\n",
        "data_collator = DataCollatorForSeq2Seq(tokenizer=tokenizer, model=checkpoint)"
      ],
      "metadata": {
        "id": "As-Y5BCpuk4z"
      },
      "execution_count": null,
      "outputs": []
    },
    {
      "cell_type": "markdown",
      "source": [
        "Let's create an evaluation function to evaluate our model's performance with the [ROUGE](https://huggingface.co/spaces/evaluate-metric/rouge) metric."
      ],
      "metadata": {
        "id": "gFI10FStHvRs"
      }
    },
    {
      "cell_type": "code",
      "source": [
        "!pip install evaluate rouge_score\n",
        "import evaluate\n",
        "\n",
        "rouge = evaluate.load(\"rouge\")"
      ],
      "metadata": {
        "id": "objIJiFDvT07"
      },
      "execution_count": null,
      "outputs": []
    },
    {
      "cell_type": "code",
      "source": [
        "import numpy as np\n",
        "\n",
        "\n",
        "def compute_metrics(eval_pred):\n",
        "    predictions, labels = eval_pred\n",
        "    decoded_preds = tokenizer.batch_decode(predictions, skip_special_tokens=True)\n",
        "    labels = np.where(labels != -100, labels, tokenizer.pad_token_id)\n",
        "    decoded_labels = tokenizer.batch_decode(labels, skip_special_tokens=True)\n",
        "\n",
        "    result = rouge.compute(predictions=decoded_preds, references=decoded_labels, use_stemmer=True)\n",
        "\n",
        "    prediction_lens = [np.count_nonzero(pred != tokenizer.pad_token_id) for pred in predictions]\n",
        "    result[\"gen_len\"] = np.mean(prediction_lens)\n",
        "\n",
        "    return {k: round(v, 4) for k, v in result.items()}"
      ],
      "metadata": {
        "id": "KSaAa8KRve8L"
      },
      "execution_count": null,
      "outputs": []
    },
    {
      "cell_type": "markdown",
      "source": [
        "The only step that remains before training our model is logging into our HuggingFace account in order to save the model and share it with the AI community."
      ],
      "metadata": {
        "id": "8BuKGDCMJJct"
      }
    },
    {
      "cell_type": "code",
      "source": [
        "from huggingface_hub import notebook_login\n",
        "\n",
        "notebook_login()"
      ],
      "metadata": {
        "colab": {
          "base_uri": "https://localhost:8080/",
          "height": 332,
          "referenced_widgets": [
            "7b9e35d4ac054ef98b2885e3896d270b",
            "6ada022ba6674c2ab3ef1d38ecb480da",
            "de3e8d4926a343bfb7251d6b7e073187",
            "0a426021c8664a7eb675c809e7c2614b",
            "e00d50746c2a45378e82c1282fa34e9f",
            "b5333aa4482940a1beb73979bc5d0b61",
            "cb47f7d35ada4accb0647a1d3a62483b",
            "c41e59fec4e64613bbdf33e7fdd34b22",
            "128f31ddc0d64a20b3b36e719cfa6bf5",
            "c58cd3f5253e47d2bfbeb337c6c28658",
            "c4a816e7dbd5474ab0f041b51e35c6cb",
            "402639aa95a74c24b198a22f396430c3",
            "b5274353426d4fe1a269b8239eeea984",
            "e1b1b3eae5b24135be8de7b9720014f3",
            "4be70812c3394f55b38aa73500137f5b",
            "416b49abab204399823eff54ecfe1366",
            "d5e556b3b6f943a6aa9fb734a157ec89"
          ]
        },
        "id": "lY1kNpaCuzGv",
        "outputId": "28938764-88e6-45e0-f5cf-6947e1d6bd2d"
      },
      "execution_count": null,
      "outputs": [
        {
          "output_type": "stream",
          "name": "stdout",
          "text": [
            "Token is valid.\n",
            "Your token has been saved in your configured git credential helpers (store).\n",
            "Your token has been saved to /root/.cache/huggingface/token\n",
            "Login successful\n"
          ]
        }
      ]
    },
    {
      "cell_type": "markdown",
      "source": [
        "When prompted, enter your 🤗 token with writing permission so that the model can be uploaded. You can do it in Settings -> Access Tokens -> New token."
      ],
      "metadata": {
        "id": "nTBuJnSbJzFj"
      }
    },
    {
      "cell_type": "markdown",
      "source": [
        "Let's train our model!"
      ],
      "metadata": {
        "id": "bAx8nV2RITaW"
      }
    },
    {
      "cell_type": "code",
      "source": [
        "from transformers import AutoModelForSeq2SeqLM, Seq2SeqTrainingArguments, Seq2SeqTrainer\n",
        "\n",
        "model = AutoModelForSeq2SeqLM.from_pretrained(checkpoint)"
      ],
      "metadata": {
        "colab": {
          "base_uri": "https://localhost:8080/",
          "height": 81,
          "referenced_widgets": [
            "35253bcbaa3d4ebc98d6e4dfcc4b37da",
            "8f1e51ed2bef435189ca64bf7c0cc14a",
            "f3f272a4478a4baa90c556ae8745d87c",
            "da868b7ebfb74ddbab505dc68eb80e26",
            "8d9ded31b0bf4161ad0aa0d8aa7783c7",
            "79531072f743483c91caca8fcc096f3d",
            "4d44fa48a3184917ba54b41ced938af7",
            "65c4165015cb4114b8aec544757da675",
            "499d409580334eb1b48490067efefb5e",
            "936e1e0a6bde4b69a0eec0cf42245dd3",
            "cd87ca61a360403c862417f2a2da3d99",
            "50a99c1954f44bb3af93f59ddb97dd74",
            "d07d14d017874405a06f4c542609bb5a",
            "8bd92e2c5f7843159bab220580fbf2cb",
            "66d9aa06596b4ceeaed56a37f2e1ae9e",
            "dcc9154d9aca48d2bd3e4caa2c3a9e01",
            "7d86a4dc94f64bbfa727a939fde212f7",
            "f694451f75624fb98314a4ed4ba0241f",
            "49c8960a206949d0bd49fcc43960cb50",
            "578e9bac37cb45238513168c2be94fe6",
            "c25aebf7f4364363aaddfe70c416c7c9",
            "922e7b76d4ec44cbafd5e5121599c9e1"
          ]
        },
        "id": "KFFyrLE_uk9x",
        "outputId": "183690cc-8a4a-445b-b519-90b40a95275e"
      },
      "execution_count": null,
      "outputs": [
        {
          "output_type": "display_data",
          "data": {
            "text/plain": [
              "Downloading pytorch_model.bin:   0%|          | 0.00/242M [00:00<?, ?B/s]"
            ],
            "application/vnd.jupyter.widget-view+json": {
              "version_major": 2,
              "version_minor": 0,
              "model_id": "35253bcbaa3d4ebc98d6e4dfcc4b37da"
            }
          },
          "metadata": {}
        },
        {
          "output_type": "display_data",
          "data": {
            "text/plain": [
              "Downloading (…)neration_config.json:   0%|          | 0.00/147 [00:00<?, ?B/s]"
            ],
            "application/vnd.jupyter.widget-view+json": {
              "version_major": 2,
              "version_minor": 0,
              "model_id": "50a99c1954f44bb3af93f59ddb97dd74"
            }
          },
          "metadata": {}
        }
      ]
    },
    {
      "cell_type": "code",
      "source": [
        "training_args = Seq2SeqTrainingArguments(\n",
        "    output_dir=\"news-summarization-argilla\",\n",
        "    evaluation_strategy=\"epoch\",\n",
        "    learning_rate=2e-5,\n",
        "    per_device_train_batch_size=16,\n",
        "    per_device_eval_batch_size=16,\n",
        "    weight_decay=0.01,\n",
        "    save_total_limit=3,\n",
        "    num_train_epochs=4,\n",
        "    predict_with_generate=True,\n",
        "    fp16=False,\n",
        "    push_to_hub=True,\n",
        ")\n",
        "\n",
        "trainer = Seq2SeqTrainer(\n",
        "    model=model,\n",
        "    args=training_args,\n",
        "    train_dataset=tokenized_dataset[\"train\"],\n",
        "    eval_dataset=tokenized_dataset[\"test\"],\n",
        "    tokenizer=tokenizer,\n",
        "    data_collator=data_collator,\n",
        "    compute_metrics=compute_metrics,\n",
        ")"
      ],
      "metadata": {
        "id": "w5v6DBAuvFvV"
      },
      "execution_count": null,
      "outputs": []
    },
    {
      "cell_type": "markdown",
      "source": [
        "Call train() to finetune your model."
      ],
      "metadata": {
        "id": "JZPZr7oMLAQi"
      }
    },
    {
      "cell_type": "code",
      "source": [
        "trainer.train()"
      ],
      "metadata": {
        "id": "8s-ofoZWvpeb"
      },
      "execution_count": null,
      "outputs": []
    },
    {
      "cell_type": "markdown",
      "source": [
        "## 4. Upload your model to your HuggingFace profile"
      ],
      "metadata": {
        "id": "ghannVHYQA25"
      }
    },
    {
      "cell_type": "markdown",
      "source": [
        "Once training is completed, share your model to the Hub with the push_to_hub() method so everyone can use your model:"
      ],
      "metadata": {
        "id": "KT3fjS8fLKaw"
      }
    },
    {
      "cell_type": "code",
      "source": [
        "trainer.push_to_hub()"
      ],
      "metadata": {
        "id": "TGeHOAcFx8xq"
      },
      "execution_count": null,
      "outputs": []
    },
    {
      "cell_type": "markdown",
      "source": [
        "## 5. Use your fine-tuned model for inference"
      ],
      "metadata": {
        "id": "zISV_Pj2Lb2C"
      }
    },
    {
      "cell_type": "markdown",
      "source": [
        "Now that our model is fine-tuned and saved, we can see it in action! Let's give it a news article as input text and use our model to generate a summary by inference.\n",
        "\n",
        "For T5, you need to prefix your input depending on the task you’re working on. For summarization you should prefix your input as shown below:"
      ],
      "metadata": {
        "id": "C2iuiQwcLjOZ"
      }
    },
    {
      "cell_type": "code",
      "source": [
        "text = \"summarize: Credit Suisse’s rescue contains a property booby prize. Unlike many banks which got into trouble back in 2008, the Swiss lender has flogged much of its prime real estate. That leaves prospective new owner UBS with an expensive and long-lasting rental bill. In the last financial crisis prime real estate played a big part of bank rescues. When Barclays bought Lehman Brothers’ U.S. capital markets business in September 2008 the deal included the bankrupt investment bank’s headquarters. The new building on New York’s Seventh Avenue accounted for $1.5 billion of the $1.75 billion deal’s value. Similarly, when JPMorgan rescued Bear Stearns six months earlier it also took the target’s Manhattan headquarters. At the time JPMorgan boss Jamie Dimon said the deal meant he would save $3 billion because he no longer needed to build a new headquarters. Property also helped prop up government bailouts. Royal Bank of Scotland had 17 billion pounds' worth of property and similar assets when the UK government bailed it out in 2008. Today there is less real estate underpinning bank values. Credit Suisse sold its main Cabot Square office in London’s Canary Wharf over a decade ago; it now occupies the building under a lease which ends in 2034. Prospective owner UBS rents its new Broadgate campus in London; Deutsche Bank does the same with its Frankfurt headquarters following a 2011 sale and leaseback deal. These leases are a hefty liability for any new owner. Credit Suisse’s One Cabot Square building is 550,000 square feet and includes a sprawling trading floor. However, it’s far from clear that the enlarged UBS will need that space following what are expected to be hefty job cuts in Credit Suisse’s investment bank. The boom in hybrid working further reduces the need for extra offices. Banks like UBS will also find it harder to sub-let excess space. Canary Wharf is already grappling with 15% vacancy rates as demand dwindles, according to Green Street estimates. For buyers preparing to rescue embattled banks, real estate has turned from a dowry to a downer.\""
      ],
      "metadata": {
        "id": "ZaLyTv8YyKn0"
      },
      "execution_count": null,
      "outputs": []
    },
    {
      "cell_type": "markdown",
      "source": [
        "Instantiate a pipeline for summarization with your model, and pass your text to it:"
      ],
      "metadata": {
        "id": "PZNZ5Eh9MwEf"
      }
    },
    {
      "cell_type": "code",
      "source": [
        "from transformers import pipeline\n",
        "\n",
        "summarizer = pipeline(\"summarization\", model=\"Sl4nia/news-summarization-argilla\")\n",
        "summarizer(text)"
      ],
      "metadata": {
        "id": "Xn8CKwMDyOJ-"
      },
      "execution_count": null,
      "outputs": []
    },
    {
      "cell_type": "markdown",
      "source": [
        "## Summary\n",
        "\n",
        "In this tutorial, we learned how to integrate Argilla and HuggingFace to look for a dataset that is suitable for our use-case, annotate it manually to ensure data quality and, finally, fine-tune a model from the Hub with our own labelled dataset and save it to our HF profile for later use and sharing.\n",
        "\n",
        "This can be useful for beginner users of Argilla or HuggingFace that are looking for an easy, simple introduction to both of these helpful resources. \n",
        "\n",
        "In this toy example, we have focused on text summarization, but this workflow can be adapted to any NLP task or project."
      ],
      "metadata": {
        "id": "BRlvna76M3gg"
      }
    }
  ]
}